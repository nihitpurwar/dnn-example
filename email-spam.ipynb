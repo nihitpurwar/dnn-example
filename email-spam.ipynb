{
 "cells": [
  {
   "cell_type": "code",
   "execution_count": 2,
   "id": "525c5968-e0e7-4a49-94aa-922d7802d16a",
   "metadata": {},
   "outputs": [],
   "source": [
    "import pandas as pd\n",
    "import tensorflow as tf\n",
    "from sklearn.model_selection import train_test_split\n",
    "from sklearn.feature_extraction.text import CountVectorizer\n",
    "from sklearn.preprocessing import StandardScaler"
   ]
  },
  {
   "cell_type": "code",
   "execution_count": 3,
   "id": "872614d1-f875-4787-83d7-83e4c4901cad",
   "metadata": {},
   "outputs": [],
   "source": [
    "# Load the dataset\n",
    "file_path = '/Users/npurwar/Downloads/spam_ham_dataset.csv'\n",
    "data = pd.read_csv(file_path)\n",
    "\n",
    "# Extract features and labels, ignoring the 'label' column\n",
    "texts = data['text']\n",
    "labels = data['label_num']  # Predict spam as 1 based on 'label_num' column\n",
    "\n",
    "# Convert text data into numerical data using CountVectorizer\n",
    "vectorizer = CountVectorizer()\n",
    "X = vectorizer.fit_transform(texts).toarray()\n",
    "\n",
    "# Standardize features\n",
    "scaler = StandardScaler()\n",
    "X = scaler.fit_transform(X)"
   ]
  },
  {
   "cell_type": "code",
   "execution_count": 4,
   "id": "d81903ff-96a5-4780-87f6-8580f4ab811a",
   "metadata": {},
   "outputs": [
    {
     "name": "stdout",
     "output_type": "stream",
     "text": [
      "33/33 [==============================] - 0s 599us/step - loss: 0.7876 - accuracy: 0.5159\n",
      "Test Accuracy: 0.52\n"
     ]
    }
   ],
   "source": [
    "# Split the dataset into training and test sets\n",
    "X_train, X_test, y_train, y_test = train_test_split(X, labels, test_size=0.2, random_state=42)\n",
    "\n",
    "# Create a TensorFlow model for logistic regression\n",
    "model = tf.keras.Sequential([\n",
    "    tf.keras.layers.Input(shape=(X_train.shape[1],)),\n",
    "    tf.keras.layers.Dense(1, activation='sigmoid')\n",
    "])\n",
    "\n",
    "# Compile the model\n",
    "model.compile(optimizer='adam', loss='binary_crossentropy', metrics=['accuracy'])\n",
    "\n",
    "# Evaluate the model\n",
    "test_loss, test_accuracy = model.evaluate(X_test, y_test)\n",
    "print(f'Test Accuracy: {test_accuracy:.2f}')\n"
   ]
  },
  {
   "cell_type": "code",
   "execution_count": 5,
   "id": "80d0c333-3aa8-493b-812e-1e653f9e24e0",
   "metadata": {},
   "outputs": [
    {
     "name": "stdout",
     "output_type": "stream",
     "text": [
      "Epoch 1/10\n",
      "130/130 [==============================] - 0s 2ms/step - loss: 0.5855 - accuracy: 0.8820 - val_loss: 0.2491 - val_accuracy: 0.9333\n",
      "Epoch 2/10\n",
      "130/130 [==============================] - 0s 1ms/step - loss: 0.0544 - accuracy: 0.9848 - val_loss: 0.2151 - val_accuracy: 0.9488\n",
      "Epoch 3/10\n",
      "130/130 [==============================] - 0s 1ms/step - loss: 0.0334 - accuracy: 0.9886 - val_loss: 0.2234 - val_accuracy: 0.9527\n",
      "Epoch 4/10\n",
      "130/130 [==============================] - 0s 1ms/step - loss: 0.0262 - accuracy: 0.9927 - val_loss: 0.2577 - val_accuracy: 0.9536\n",
      "Epoch 5/10\n",
      "130/130 [==============================] - 0s 1ms/step - loss: 0.0208 - accuracy: 0.9942 - val_loss: 0.2538 - val_accuracy: 0.9517\n",
      "Epoch 6/10\n",
      "130/130 [==============================] - 0s 1ms/step - loss: 0.0178 - accuracy: 0.9971 - val_loss: 0.2970 - val_accuracy: 0.9507\n",
      "Epoch 7/10\n",
      "130/130 [==============================] - 0s 1ms/step - loss: 0.0151 - accuracy: 0.9971 - val_loss: 0.2918 - val_accuracy: 0.9527\n",
      "Epoch 8/10\n",
      "130/130 [==============================] - 0s 1ms/step - loss: 0.0139 - accuracy: 0.9969 - val_loss: 0.2866 - val_accuracy: 0.9507\n",
      "Epoch 9/10\n",
      "130/130 [==============================] - 0s 1ms/step - loss: 0.0118 - accuracy: 0.9988 - val_loss: 0.3104 - val_accuracy: 0.9527\n",
      "Epoch 10/10\n",
      "130/130 [==============================] - 0s 1ms/step - loss: 0.0107 - accuracy: 0.9990 - val_loss: 0.3285 - val_accuracy: 0.9536\n"
     ]
    },
    {
     "data": {
      "text/plain": [
       "<keras.src.callbacks.History at 0x333a50130>"
      ]
     },
     "execution_count": 5,
     "metadata": {},
     "output_type": "execute_result"
    }
   ],
   "source": [
    "# Train the model\n",
    "model.fit(X_train, y_train, epochs=10, batch_size=32, validation_data=(X_test, y_test))\n"
   ]
  },
  {
   "cell_type": "code",
   "execution_count": 6,
   "id": "ab4e7eb7-22c5-4d4c-a447-87e696b571b3",
   "metadata": {},
   "outputs": [
    {
     "name": "stdout",
     "output_type": "stream",
     "text": [
      "33/33 [==============================] - 0s 599us/step - loss: 0.3285 - accuracy: 0.9536\n",
      "Test Accuracy: 0.95\n"
     ]
    }
   ],
   "source": [
    "# Evaluate the model\n",
    "test_loss, test_accuracy = model.evaluate(X_test, y_test)\n",
    "print(f'Test Accuracy: {test_accuracy:.2f}')\n"
   ]
  },
  {
   "cell_type": "code",
   "execution_count": null,
   "id": "8632c751-f3ff-41b6-ac18-9f574eb9b742",
   "metadata": {},
   "outputs": [],
   "source": []
  }
 ],
 "metadata": {
  "kernelspec": {
   "display_name": "Python 3 (ipykernel)",
   "language": "python",
   "name": "python3"
  },
  "language_info": {
   "codemirror_mode": {
    "name": "ipython",
    "version": 3
   },
   "file_extension": ".py",
   "mimetype": "text/x-python",
   "name": "python",
   "nbconvert_exporter": "python",
   "pygments_lexer": "ipython3",
   "version": "3.9.6"
  }
 },
 "nbformat": 4,
 "nbformat_minor": 5
}
